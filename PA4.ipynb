{
 "cells": [
  {
   "cell_type": "markdown",
   "id": "2c155c2c",
   "metadata": {},
   "source": [
    "# If Statements"
   ]
  },
  {
   "cell_type": "markdown",
   "id": "6f762f10",
   "metadata": {},
   "source": [
    "# Task 1: Grade Calculator\n",
    "Create a calculator that prints the average grade and corresponding letter grade"
   ]
  },
  {
   "cell_type": "code",
   "execution_count": 24,
   "id": "8de763c2",
   "metadata": {},
   "outputs": [],
   "source": [
    "grades=(96, 91, 63, 50, 74)"
   ]
  },
  {
   "cell_type": "code",
   "execution_count": 25,
   "id": "ea099ef4",
   "metadata": {
    "scrolled": true
   },
   "outputs": [
    {
     "name": "stdout",
     "output_type": "stream",
     "text": [
      "74.8\n"
     ]
    }
   ],
   "source": [
    "avg=sum(grades) / len(grades)\n",
    "print (avg)"
   ]
  },
  {
   "cell_type": "code",
   "execution_count": 33,
   "id": "8bb69923",
   "metadata": {},
   "outputs": [
    {
     "name": "stdout",
     "output_type": "stream",
     "text": [
      "C\n",
      "74.8\n"
     ]
    }
   ],
   "source": [
    "if avg>89:\n",
    "    print(\"A\")\n",
    "elif avg>=80 and avg<=89:\n",
    "    print(\"B\")\n",
    "elif avg>=70 and avg<=79:\n",
    "    print(\"C\")\n",
    "elif avg>=60 and avg<=69:\n",
    "    print(\"D\")\n",
    "else:\n",
    "    print(\"F\")\n",
    "print(avg)"
   ]
  },
  {
   "cell_type": "markdown",
   "id": "74b941c9",
   "metadata": {},
   "source": [
    "# Task 2: Tuple Unpacking\n",
    "Create a tuple with personal information and check if the age is above 18"
   ]
  },
  {
   "cell_type": "code",
   "execution_count": 38,
   "id": "9ad47daa",
   "metadata": {},
   "outputs": [
    {
     "name": "stdout",
     "output_type": "stream",
     "text": [
      "first_name Jackson\n",
      "last_name Hay\n",
      "age 19\n",
      "subject Japanese\n"
     ]
    }
   ],
   "source": [
    "student=(\"Jackson\", \"Hay\", 19, \"Japanese\")\n",
    "first_name, last_name, age, subject=student\n",
    "print(\"first_name\", first_name)\n",
    "print(\"last_name\", last_name)\n",
    "print(\"age\", age)\n",
    "print(\"subject\", subject)"
   ]
  },
  {
   "cell_type": "code",
   "execution_count": 41,
   "id": "688f8f66",
   "metadata": {},
   "outputs": [
    {
     "name": "stdout",
     "output_type": "stream",
     "text": [
      "Is an adult\n"
     ]
    }
   ],
   "source": [
    "if age>18:\n",
    "    print(\"Is an adult\")\n",
    "else:\n",
    "    print(\"Is not an adult\")"
   ]
  },
  {
   "cell_type": "markdown",
   "id": "6d77de9a",
   "metadata": {},
   "source": [
    "# Task 3: Month and date\n",
    "Write a Python program that will accept a number from 1 to 12 and display the name of the month and days in the month. Consider that the year is a regular year."
   ]
  },
  {
   "cell_type": "code",
   "execution_count": 57,
   "id": "a5b2d7eb",
   "metadata": {},
   "outputs": [
    {
     "name": "stdout",
     "output_type": "stream",
     "text": [
      "Enter a month1\n",
      "jan 31\n"
     ]
    }
   ],
   "source": [
    "data=int(input(\"Enter a month\"))\n",
    "months = \"jan feb mar apr may jun jul aug sep oct nov dec\".split()\n",
    "days = \"31 28 31 30 31 30 31 31 30 31 30 31\".split()\n",
    "print(months[data-1], days[data-1])"
   ]
  },
  {
   "cell_type": "markdown",
   "id": "c9a4fad2",
   "metadata": {},
   "source": [
    "# Task 4: Triangle\n",
    "Accept three sides of a triangle and check whether it is an equilateral, isosceles, or scalene triangle."
   ]
  },
  {
   "cell_type": "code",
   "execution_count": 67,
   "id": "aa3f719a",
   "metadata": {},
   "outputs": [
    {
     "name": "stdout",
     "output_type": "stream",
     "text": [
      "20\n",
      "20\n",
      "20\n",
      "Equilateral\n"
     ]
    }
   ],
   "source": [
    "x = int(input(\"\"))\n",
    "y = int(input(\"\"))\n",
    "z = int(input(\"\"))\n",
    "\n",
    "if x == y == z:\n",
    "    print(\"Equilateral\")\n",
    "elif x==y or z==y or z==x:\n",
    "    print(\"isosceles\")\n",
    "else:\n",
    "    print(\"scalene\")"
   ]
  },
  {
   "cell_type": "code",
   "execution_count": null,
   "id": "c2c7732f",
   "metadata": {},
   "outputs": [],
   "source": []
  }
 ],
 "metadata": {
  "kernelspec": {
   "display_name": "Python 3 (ipykernel)",
   "language": "python",
   "name": "python3"
  },
  "language_info": {
   "codemirror_mode": {
    "name": "ipython",
    "version": 3
   },
   "file_extension": ".py",
   "mimetype": "text/x-python",
   "name": "python",
   "nbconvert_exporter": "python",
   "pygments_lexer": "ipython3",
   "version": "3.11.4"
  }
 },
 "nbformat": 4,
 "nbformat_minor": 5
}
